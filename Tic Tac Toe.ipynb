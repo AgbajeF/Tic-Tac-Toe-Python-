{
 "cells": [
  {
   "cell_type": "markdown",
   "metadata": {},
   "source": [
    "This is a basic Tic Tac Toe game."
   ]
  },
  {
   "cell_type": "code",
   "execution_count": 26,
   "metadata": {},
   "outputs": [],
   "source": [
    "from IPython.display import clear_output\n",
    "\n",
    "#Function that creates and displays board\n",
    "def display_board(board):\n",
    "    clear_output()\n",
    "    \n",
    "    print ('|', end = '')\n",
    "    for i in range(1,4):\n",
    "        print (board[i], end = '|')\n",
    "    print('\\n-------')\n",
    "    \n",
    "    print ('|', end = '')\n",
    "    for i in range(4,7):\n",
    "        print (board[i], end = '|')\n",
    "    print('\\n-------')\n",
    "    \n",
    "    print ('|', end = '')\n",
    "    for i in range(7,10):\n",
    "        print (board[i], end = '|')\n",
    "    print('\\n')"
   ]
  },
  {
   "cell_type": "code",
   "execution_count": 27,
   "metadata": {},
   "outputs": [],
   "source": [
    "#This function establishes who is X and O\n",
    "def player_input():\n",
    "    #list of accepted repsonse\n",
    "    accepted_choice = (['X', 'x', 'o', 'O'])\n",
    "  \n",
    "    \n",
    "    #ask player one for marker\n",
    "    player_marker = input('Player One, please choose a marker X or O: ').upper()\n",
    "    \n",
    "    #validate user input with while loop\n",
    "    while player_marker not in accepted_choice:\n",
    "        player_marker = input(\"That's not an accepted choice. Please choose between X or O: \")\n",
    "        \n",
    "    \n",
    "    if player_marker == 'X':\n",
    "        return ('X', 'O')\n",
    "    else:\n",
    "        return ('O', 'X')"
   ]
  },
  {
   "cell_type": "code",
   "execution_count": 28,
   "metadata": {},
   "outputs": [],
   "source": [
    "def place_marker(board, player_marker, position):\n",
    "    board[position] = player_marker\n",
    "    return board[position]"
   ]
  },
  {
   "cell_type": "code",
   "execution_count": 29,
   "metadata": {},
   "outputs": [],
   "source": [
    "#Checks to see if a player has 3 in a row\n",
    "def win_check(board, mark):\n",
    "    return ((board[1] == mark and board[2] == mark and board[3] == mark) or # across top row\n",
    "    (board[4] == mark and board[5] == mark and board[6] == mark) or # across middle row\n",
    "    (board[7] == mark and board[8] == mark and board[9] == mark) or # across bottom row\n",
    "    (board[1] == mark and board[4] == mark and board[7] == mark) or # down left side\n",
    "    (board[2] == mark and board[5] == mark and board[8] == mark) or # down middle column\n",
    "    (board[3] == mark and board[6] == mark and board[9] == mark) or # down right side\n",
    "    (board[1] == mark and board[5] == mark and board[9] == mark) or # diagonal\n",
    "    (board[3] == mark and board[5] == mark and board[7] == mark)) # diagonal"
   ]
  },
  {
   "cell_type": "code",
   "execution_count": 30,
   "metadata": {},
   "outputs": [],
   "source": [
    "import random\n",
    "\n",
    "#randomly choose who goes first\n",
    "def choose_first():\n",
    "    #assign random number between 1 and 2\n",
    "    which_player = random.randint(1,3)\n",
    "    #if statement\n",
    "    if which_player == 1:\n",
    "        return('Player One')\n",
    "    else:\n",
    "        return('Player Two')"
   ]
  },
  {
   "cell_type": "code",
   "execution_count": 31,
   "metadata": {},
   "outputs": [],
   "source": [
    "#Check to if space is available\n",
    "def space_check(board, position):\n",
    "    return board[position] == ' '"
   ]
  },
  {
   "cell_type": "code",
   "execution_count": 32,
   "metadata": {},
   "outputs": [],
   "source": [
    "#check to see if board is full\n",
    "def full_board_check(board):\n",
    "    #go through each board position and use space_check function\n",
    "    for i in range(1,10):\n",
    "        if space_check(board, i):\n",
    "            return False\n",
    "    \n",
    "    return True"
   ]
  },
  {
   "cell_type": "code",
   "execution_count": 36,
   "metadata": {},
   "outputs": [],
   "source": [
    "def player_choice(board):\n",
    "    position = 0\n",
    "    \n",
    "    while position not in range(1,10) or not space_check(board, position):\n",
    "        position = int(input('Choose your next position [1-9]: '))\n",
    "        \n",
    "    return position"
   ]
  },
  {
   "cell_type": "code",
   "execution_count": 37,
   "metadata": {},
   "outputs": [],
   "source": [
    "def replay():\n",
    "    #Get user answer\n",
    "    play_again = input('Would you like to play again Y or N?: ')\n",
    "    replay_answer = (['Y', 'y', 'n', 'N'])\n",
    "    #While statement - reutrns boolean\n",
    "    while play_again not in replay_answer:\n",
    "        #Ask user again if unexpected response\n",
    "        play_again = input('Unexpected response. Please Enter Y to play again or N to end: ')\n",
    "        \n",
    "    play_again = str.upper(play_again)\n",
    "    \n",
    "    if play_again == 'Y':\n",
    "        play_again = True\n",
    "    else:\n",
    "        play_again = False\n",
    "    return play_again"
   ]
  },
  {
   "cell_type": "code",
   "execution_count": null,
   "metadata": {},
   "outputs": [
    {
     "name": "stdout",
     "output_type": "stream",
     "text": [
      "|O|O|X|\n",
      "-------\n",
      "|X|O|X|\n",
      "-------\n",
      "|O|X|O|\n",
      "\n",
      "Congratulations Player Two, You Won!\n"
     ]
    }
   ],
   "source": [
    "#Main\n",
    "print('Welcome to Tic Tac Toe!')\n",
    "\n",
    "while True:\n",
    "    # board reset\n",
    "    board = [' '] * 10\n",
    "    #Assign markers to players\n",
    "    player_one, player_two = player_input()\n",
    "    #Who will go first\n",
    "    player_turn = choose_first()\n",
    "    print(player_turn + ' goes first!')\n",
    "    \n",
    "    \n",
    "    #Start Game?\n",
    "    game_ready = input('Are you ready to play? Y or N: ')\n",
    "    \n",
    "    if game_ready == 'y' or game_ready == 'Y':\n",
    "        game_on = True\n",
    "    else:\n",
    "        game_on = False\n",
    "\n",
    "    while game_on:\n",
    "        if player_turn == 'Player 1':\n",
    "            \n",
    "            # Player One's turn\n",
    "            display_board(board)\n",
    "            board_position = player_choice(board)\n",
    "            place_marker(board, player_one, board_position)\n",
    "\n",
    "            if win_check(board, player_one):\n",
    "                display_board(board)\n",
    "                print('Congratulations Player One, You Won!')\n",
    "                game_on = False\n",
    "            else:\n",
    "                if full_board_check(board):\n",
    "                    display_board(board)\n",
    "                    print('Draw Game!')\n",
    "                    break\n",
    "                else:\n",
    "                    player_turn = 'Player 2'\n",
    "\n",
    "        else:\n",
    "            # Player Two's turn\n",
    "            display_board(board)\n",
    "            board_position = player_choice(board)\n",
    "            place_marker(board, player_two, board_position)\n",
    "            \n",
    "            if win_check(board, player_two):\n",
    "                display_board(board)\n",
    "                print('Congratulations Player Two, You Won!')\n",
    "                game_on = False\n",
    "            else:\n",
    "                if full_board_check(board):\n",
    "                    display_board(board)\n",
    "                    print('Draw Game!')\n",
    "                    break\n",
    "                else:\n",
    "                    player_turn = 'Player 1'\n",
    "\n",
    "    if not replay():\n",
    "        break"
   ]
  },
  {
   "cell_type": "code",
   "execution_count": null,
   "metadata": {},
   "outputs": [],
   "source": []
  }
 ],
 "metadata": {
  "kernelspec": {
   "display_name": "Python 3",
   "language": "python",
   "name": "python3"
  },
  "language_info": {
   "codemirror_mode": {
    "name": "ipython",
    "version": 3
   },
   "file_extension": ".py",
   "mimetype": "text/x-python",
   "name": "python",
   "nbconvert_exporter": "python",
   "pygments_lexer": "ipython3",
   "version": "3.7.6"
  }
 },
 "nbformat": 4,
 "nbformat_minor": 5
}
